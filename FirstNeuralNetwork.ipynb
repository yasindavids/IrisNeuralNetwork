{
 "cells": [
  {
   "cell_type": "markdown",
   "id": "761ba1a9-0eaf-473f-a791-e1a2af1c1537",
   "metadata": {},
   "source": [
    "# First Neural Network\n",
    "Built with https://www.youtube.com/watch?v=JHWqWIoac2I as tutorial.\n",
    "I am using the dataset from https://gist.github.com/netj/8836201.\n",
    "\n",
    "I did this project to learn, hence all the notes.\n",
    "\n",
    "The goal is to input 4 features of a flower and return an output of which flower the neural network thinks they belong to, out of three flowers. "
   ]
  },
  {
   "cell_type": "code",
   "execution_count": 171,
   "id": "11f7f664-00ef-41ef-9d15-eb5f2fa958f2",
   "metadata": {},
   "outputs": [],
   "source": [
    "import numpy as np\n",
    "import torch\n",
    "import torch.nn as nn\n",
    "import torch.nn.functional as F\n",
    "import matplotlib.pyplot as plt\n",
    "import pandas as pd\n",
    "%matplotlib inline "
   ]
  },
  {
   "cell_type": "markdown",
   "id": "b08f457c-1ebc-4057-92ae-f1740448591e",
   "metadata": {},
   "source": [
    "## Neural Network Structure\n",
    "\n",
    "1. Input layer (4 features of flower) sends inputs to hidden layer 1\n",
    "2. HL1 sends data to hidden layer 2\n",
    "3. HL2 sends data to output layer\n",
    "4. Output layer decides which of the three flowers is most likely"
   ]
  },
  {
   "cell_type": "code",
   "execution_count": 172,
   "id": "011717f6-38d0-4b86-b892-1646d3adf2d7",
   "metadata": {},
   "outputs": [],
   "source": [
    "#Create a Model \n",
    "class Model(nn.Module):\n",
    "    #The hidden layer numbers are fluid. You can change them based on how much you think you'll need\n",
    "    def __init__(self, inputs=4, hl1 = 8, hl2 = 8, output=3):\n",
    "        super().__init__() #instantiate the model\n",
    "        #fc is just the standard variable name for a fully connected layer\n",
    "        self.fc1 = nn.Linear(inputs, hl1)\n",
    "        self.fc2 = nn.Linear(hl1, hl2)\n",
    "        self.out = nn.Linear(hl2, output)\n",
    "\n",
    "    #pushes data through the layers\n",
    "    def forward(self, x):\n",
    "        x = F.relu(self.fc1(x))\n",
    "        x = F.relu(self.fc2(x))\n",
    "        x = self.out(x)\n",
    "        \n",
    "        return x\n",
    "        "
   ]
  },
  {
   "cell_type": "code",
   "execution_count": 173,
   "id": "d96b9904-fa74-49c0-a045-471259addbee",
   "metadata": {},
   "outputs": [],
   "source": [
    "#manual seed for randomisation \n",
    "torch.manual_seed(32)\n",
    "\n",
    "#Create instance of Model\n",
    "model = Model()"
   ]
  },
  {
   "cell_type": "code",
   "execution_count": 174,
   "id": "e2fc48f3-f5e9-4152-9e5f-911007972243",
   "metadata": {},
   "outputs": [],
   "source": [
    "#Put csv of data into dataframe\n",
    "url = 'https://gist.githubusercontent.com/netj/8836201/raw/6f9306ad21398ea43cba4f7d537619d0e07d5ae3/iris.csv'\n",
    "my_df = pd.read_csv(url)"
   ]
  },
  {
   "cell_type": "code",
   "execution_count": 175,
   "id": "5addbb15-3d47-442d-b69d-7f2c8d0eea89",
   "metadata": {},
   "outputs": [
    {
     "data": {
      "text/html": [
       "<div>\n",
       "<style scoped>\n",
       "    .dataframe tbody tr th:only-of-type {\n",
       "        vertical-align: middle;\n",
       "    }\n",
       "\n",
       "    .dataframe tbody tr th {\n",
       "        vertical-align: top;\n",
       "    }\n",
       "\n",
       "    .dataframe thead th {\n",
       "        text-align: right;\n",
       "    }\n",
       "</style>\n",
       "<table border=\"1\" class=\"dataframe\">\n",
       "  <thead>\n",
       "    <tr style=\"text-align: right;\">\n",
       "      <th></th>\n",
       "      <th>sepal.length</th>\n",
       "      <th>sepal.width</th>\n",
       "      <th>petal.length</th>\n",
       "      <th>petal.width</th>\n",
       "      <th>variety</th>\n",
       "    </tr>\n",
       "  </thead>\n",
       "  <tbody>\n",
       "    <tr>\n",
       "      <th>0</th>\n",
       "      <td>5.1</td>\n",
       "      <td>3.5</td>\n",
       "      <td>1.4</td>\n",
       "      <td>0.2</td>\n",
       "      <td>0</td>\n",
       "    </tr>\n",
       "    <tr>\n",
       "      <th>1</th>\n",
       "      <td>4.9</td>\n",
       "      <td>3.0</td>\n",
       "      <td>1.4</td>\n",
       "      <td>0.2</td>\n",
       "      <td>0</td>\n",
       "    </tr>\n",
       "    <tr>\n",
       "      <th>2</th>\n",
       "      <td>4.7</td>\n",
       "      <td>3.2</td>\n",
       "      <td>1.3</td>\n",
       "      <td>0.2</td>\n",
       "      <td>0</td>\n",
       "    </tr>\n",
       "    <tr>\n",
       "      <th>3</th>\n",
       "      <td>4.6</td>\n",
       "      <td>3.1</td>\n",
       "      <td>1.5</td>\n",
       "      <td>0.2</td>\n",
       "      <td>0</td>\n",
       "    </tr>\n",
       "    <tr>\n",
       "      <th>4</th>\n",
       "      <td>5.0</td>\n",
       "      <td>3.6</td>\n",
       "      <td>1.4</td>\n",
       "      <td>0.2</td>\n",
       "      <td>0</td>\n",
       "    </tr>\n",
       "    <tr>\n",
       "      <th>...</th>\n",
       "      <td>...</td>\n",
       "      <td>...</td>\n",
       "      <td>...</td>\n",
       "      <td>...</td>\n",
       "      <td>...</td>\n",
       "    </tr>\n",
       "    <tr>\n",
       "      <th>145</th>\n",
       "      <td>6.7</td>\n",
       "      <td>3.0</td>\n",
       "      <td>5.2</td>\n",
       "      <td>2.3</td>\n",
       "      <td>2</td>\n",
       "    </tr>\n",
       "    <tr>\n",
       "      <th>146</th>\n",
       "      <td>6.3</td>\n",
       "      <td>2.5</td>\n",
       "      <td>5.0</td>\n",
       "      <td>1.9</td>\n",
       "      <td>2</td>\n",
       "    </tr>\n",
       "    <tr>\n",
       "      <th>147</th>\n",
       "      <td>6.5</td>\n",
       "      <td>3.0</td>\n",
       "      <td>5.2</td>\n",
       "      <td>2.0</td>\n",
       "      <td>2</td>\n",
       "    </tr>\n",
       "    <tr>\n",
       "      <th>148</th>\n",
       "      <td>6.2</td>\n",
       "      <td>3.4</td>\n",
       "      <td>5.4</td>\n",
       "      <td>2.3</td>\n",
       "      <td>2</td>\n",
       "    </tr>\n",
       "    <tr>\n",
       "      <th>149</th>\n",
       "      <td>5.9</td>\n",
       "      <td>3.0</td>\n",
       "      <td>5.1</td>\n",
       "      <td>1.8</td>\n",
       "      <td>2</td>\n",
       "    </tr>\n",
       "  </tbody>\n",
       "</table>\n",
       "<p>150 rows × 5 columns</p>\n",
       "</div>"
      ],
      "text/plain": [
       "     sepal.length  sepal.width  petal.length  petal.width  variety\n",
       "0             5.1          3.5           1.4          0.2        0\n",
       "1             4.9          3.0           1.4          0.2        0\n",
       "2             4.7          3.2           1.3          0.2        0\n",
       "3             4.6          3.1           1.5          0.2        0\n",
       "4             5.0          3.6           1.4          0.2        0\n",
       "..            ...          ...           ...          ...      ...\n",
       "145           6.7          3.0           5.2          2.3        2\n",
       "146           6.3          2.5           5.0          1.9        2\n",
       "147           6.5          3.0           5.2          2.0        2\n",
       "148           6.2          3.4           5.4          2.3        2\n",
       "149           5.9          3.0           5.1          1.8        2\n",
       "\n",
       "[150 rows x 5 columns]"
      ]
     },
     "execution_count": 175,
     "metadata": {},
     "output_type": "execute_result"
    }
   ],
   "source": [
    "#Swapping class names for ints 0-2\n",
    "my_df['variety'] = my_df['variety'].replace('Setosa', 0)\n",
    "my_df['variety'] = my_df['variety'].replace('Versicolor', 1)\n",
    "my_df['variety'] = my_df['variety'].replace('Virginica', 2)\n",
    "\n",
    "my_df #Just shows the dataframe"
   ]
  },
  {
   "cell_type": "code",
   "execution_count": 176,
   "id": "8cc3f0d5-fbcf-46e8-9b34-e2c964a645fd",
   "metadata": {},
   "outputs": [],
   "source": [
    "#x typically represents the data you are using to make the prediction, and y represents the possible prediction outcomes\n",
    "x = my_df.drop(['variety'], axis=1)\n",
    "y = my_df['variety']"
   ]
  },
  {
   "cell_type": "code",
   "execution_count": 177,
   "id": "52a16442-ec2e-484f-bb6b-5953c2894133",
   "metadata": {},
   "outputs": [],
   "source": [
    "#convert to numpy arrays\n",
    "x = x.values\n",
    "y = y.values\n"
   ]
  },
  {
   "cell_type": "code",
   "execution_count": 178,
   "id": "71f68a91-d7a9-4f94-935a-752f2cd3c743",
   "metadata": {},
   "outputs": [],
   "source": [
    "from sklearn.model_selection import train_test_split"
   ]
  },
  {
   "cell_type": "code",
   "execution_count": 179,
   "id": "7a3b58a8-8dae-4e03-ba13-ea1348b6739e",
   "metadata": {},
   "outputs": [],
   "source": [
    "#Train Test Split randomly splits x and y into train and test sets \n",
    "x_train, x_test, y_train, y_test = train_test_split(x, y, test_size = 0.2, random_state = 32)"
   ]
  },
  {
   "cell_type": "code",
   "execution_count": 180,
   "id": "b2683437-6233-4abf-8163-d87cafacf217",
   "metadata": {},
   "outputs": [],
   "source": [
    "#Convert randomized sets to tensors (long for int, float for floats) \n",
    "x_train = torch.FloatTensor(x_train)\n",
    "x_test = torch.FloatTensor(x_test)\n",
    "y_train = torch.LongTensor(y_train)\n",
    "y_test = torch.LongTensor(y_test)\n"
   ]
  },
  {
   "cell_type": "markdown",
   "id": "2127d177-ed8c-4988-8e2e-5b36147a4b87",
   "metadata": {},
   "source": [
    "The nn.CrossEntropyLoss() function works by plugging the logits (model's predicted values) into the mathematical Cross Entropy function and calculates the differences between the results and the initial logits. This assesses the accuracy of the predictions.\n",
    "\n",
    "Epochs = a run through the training data"
   ]
  },
  {
   "cell_type": "code",
   "execution_count": 181,
   "id": "81e15b63-9848-4c96-a08e-2ad26fe440c1",
   "metadata": {},
   "outputs": [],
   "source": [
    "#Finds the error by putting the predicted values into cross entropy function\n",
    "criterion = nn.CrossEntropyLoss()\n",
    "#Adam Optimizer. lr = learning rate\n",
    "optimizer = torch.optim.Adam(model.parameters(), lr = 0.01)\n",
    "\n"
   ]
  },
  {
   "cell_type": "code",
   "execution_count": 182,
   "id": "a3a0be4f-b4b7-4f37-8b35-c763cd2ebea4",
   "metadata": {},
   "outputs": [
    {
     "name": "stdout",
     "output_type": "stream",
     "text": [
      "Epoch: 0 and loss 1.0631177425384521\n",
      "Epoch: 10 and loss 0.8529144525527954\n",
      "Epoch: 20 and loss 0.7415196895599365\n",
      "Epoch: 30 and loss 0.6668492555618286\n",
      "Epoch: 40 and loss 0.5850216746330261\n",
      "Epoch: 50 and loss 0.461078941822052\n",
      "Epoch: 60 and loss 0.26744329929351807\n",
      "Epoch: 70 and loss 0.13584904372692108\n",
      "Epoch: 80 and loss 0.09010109305381775\n",
      "Epoch: 90 and loss 0.07374871522188187\n",
      "Epoch: 100 and loss 0.06676320731639862\n",
      "Epoch: 110 and loss 0.0632101371884346\n",
      "Epoch: 120 and loss 0.06106076389551163\n"
     ]
    }
   ],
   "source": [
    "# Train the model \n",
    "epochs = 130\n",
    "losses = []\n",
    "for i in range (epochs):\n",
    "    y_prediction = model.forward(x_train) #chucks training data through model\n",
    "    loss = criterion(y_prediction, y_train)  #result of crossentropyloss\n",
    "    losses.append(loss.detach().numpy()) #saves loss to losses[]\n",
    "\n",
    "    #Print results every 10 epochs\n",
    "    if i % 10 == 0:\n",
    "        print (f'Epoch: {i} and loss {loss}')\n",
    "\n",
    "    #BackPropogation\n",
    "    optimizer.zero_grad()\n",
    "    loss.backward()\n",
    "    optimizer.step()"
   ]
  },
  {
   "cell_type": "code",
   "execution_count": 183,
   "id": "c56825dd-9e4d-4b9e-b1f6-b02db085ee2a",
   "metadata": {},
   "outputs": [
    {
     "data": {
      "text/plain": [
       "Text(0.5, 0, 'Epochs')"
      ]
     },
     "execution_count": 183,
     "metadata": {},
     "output_type": "execute_result"
    },
    {
     "data": {
      "image/png": "[encoded data removed]",
      "text/plain": [
       "<Figure size 640x480 with 1 Axes>"
      ]
     },
     "metadata": {},
     "output_type": "display_data"
    }
   ],
   "source": [
    "#Graph out the losses\n",
    "plt.plot(range(epochs), losses)\n",
    "plt.ylabel('loss/error')\n",
    "plt.xlabel('Epochs')"
   ]
  },
  {
   "cell_type": "code",
   "execution_count": 184,
   "id": "81de77fb-6099-4fc8-bb79-b0b947d2ac53",
   "metadata": {},
   "outputs": [],
   "source": [
    "#Evaluate actual test data instead of training data\n",
    "with torch.no_grad(): # turns off back propogation\n",
    "    y_eval = model.forward(x_test) #chucks test data through model\n",
    "    loss = criterion(y_eval, y_test)"
   ]
  },
  {
   "cell_type": "code",
   "execution_count": 185,
   "id": "95a0d1a9-eaed-48d1-ad05-4a32639ff98f",
   "metadata": {},
   "outputs": [
    {
     "data": {
      "text/plain": [
       "tensor(0.0369)"
      ]
     },
     "execution_count": 185,
     "metadata": {},
     "output_type": "execute_result"
    }
   ],
   "source": [
    "loss"
   ]
  },
  {
   "cell_type": "code",
   "execution_count": 186,
   "id": "7e6bcf2e-f780-4777-b8d5-1e5a00b06ccd",
   "metadata": {},
   "outputs": [
    {
     "data": {
      "text/plain": [
       "tensor(0.0369)"
      ]
     },
     "execution_count": 186,
     "metadata": {},
     "output_type": "execute_result"
    }
   ],
   "source": [
    "loss"
   ]
  },
  {
   "cell_type": "code",
   "execution_count": 187,
   "id": "6adb2cb4-89fa-49b2-a02e-ad553d99e9c1",
   "metadata": {},
   "outputs": [
    {
     "name": "stdout",
     "output_type": "stream",
     "text": [
      "1.) \t Vernicolor \t 1\n",
      "2.) \t Setosa \t 0\n",
      "3.) \t Setosa \t 0\n",
      "4.) \t Vernicolor \t 1\n",
      "5.) \t Virginica \t 2\n",
      "6.) \t Virginica \t 2\n",
      "7.) \t Setosa \t 0\n",
      "8.) \t Setosa \t 0\n",
      "9.) \t Vernicolor \t 1\n",
      "10.) \t Setosa \t 0\n",
      "11.) \t Vernicolor \t 1\n",
      "12.) \t Virginica \t 2\n",
      "13.) \t Vernicolor \t 1\n",
      "14.) \t Vernicolor \t 1\n",
      "15.) \t Virginica \t 2\n",
      "16.) \t Virginica \t 2\n",
      "17.) \t Vernicolor \t 1\n",
      "18.) \t Virginica \t 2\n",
      "19.) \t Vernicolor \t 1\n",
      "20.) \t Setosa \t 0\n",
      "21.) \t Setosa \t 0\n",
      "22.) \t Virginica \t 2\n",
      "23.) \t Virginica \t 2\n",
      "24.) \t Setosa \t 0\n",
      "25.) \t Setosa \t 0\n",
      "26.) \t Vernicolor \t 1\n",
      "27.) \t Setosa \t 0\n",
      "28.) \t Virginica \t 2\n",
      "29.) \t Setosa \t 0\n",
      "30.) \t Setosa \t 0\n",
      "The model got 30 correct!\n"
     ]
    }
   ],
   "source": [
    "correct = 0\n",
    "with torch.no_grad():\n",
    "    for i, data in enumerate(x_test):\n",
    "        y_val = model.forward(data)\n",
    "\n",
    "        if y_test[i] == 0:\n",
    "            guess = 'Setosa'\n",
    "        elif y_test[i] == 1:\n",
    "            guess = 'Vernicolor'\n",
    "        else:\n",
    "            guess = 'Virginica'\n",
    "        \n",
    "        #Prints what network thinks the flower is\n",
    "        print(f'{i+1}.) \\t {guess} \\t {y_val.argmax().item()}')\n",
    "\n",
    "        if y_val.argmax().item() == y_test[i]:\n",
    "            correct += 1\n",
    "\n",
    "print(f'The model got {correct} correct!')"
   ]
  },
  {
   "cell_type": "code",
   "execution_count": null,
   "id": "1114b6f8-0569-48d8-94df-1a19c22b5dc9",
   "metadata": {},
   "outputs": [],
   "source": []
  }
 ],
 "metadata": {
  "kernelspec": {
   "display_name": "Python 3 (ipykernel)",
   "language": "python",
   "name": "python3"
  },
  "language_info": {
   "codemirror_mode": {
    "name": "ipython",
    "version": 3
   },
   "file_extension": ".py",
   "mimetype": "text/x-python",
   "name": "python",
   "nbconvert_exporter": "python",
   "pygments_lexer": "ipython3",
   "version": "3.11.7"
  }
 },
 "nbformat": 4,
 "nbformat_minor": 5
}
